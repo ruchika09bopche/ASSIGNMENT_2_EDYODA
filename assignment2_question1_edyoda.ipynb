{
 "cells": [
  {
   "cell_type": "markdown",
   "id": "b9ee267a",
   "metadata": {},
   "source": [
    "# FUN WITH LISTS AND TUPLES\n"
   ]
  },
  {
   "cell_type": "markdown",
   "id": "da864627",
   "metadata": {},
   "source": [
    "# Write a Python program to get a list, sorted in increasing order by the last element in each tuple from a given list of non-empty tuples\n",
    "\n",
    "\n",
    "\n",
    "Sample List : [(2, 5), (1, 2), (4, 4), (2, 3), (2, 1)]\n",
    "\n",
    "Expected Result : [(2, 1), (1, 2), (2, 3), (4, 4), (2, 5)]\n"
   ]
  },
  {
   "cell_type": "code",
   "execution_count": 11,
   "id": "40fb03eb",
   "metadata": {},
   "outputs": [
    {
     "name": "stdout",
     "output_type": "stream",
     "text": [
      "[(2, 1), (1, 2), (2, 3), (4, 4), (2, 5)]\n"
     ]
    }
   ],
   "source": [
    "sample_list = [(2,5), (1,2), (4,4), (2,3), (2,1)]\n",
    "def last(sample_list):\n",
    "    return sample_list[-1]\n",
    "def sort_sample_list_last(tuples):\n",
    "    return sorted(tuples, key=last)\n",
    "print(sort_sample_list_last([(2,5),(1,2),(4,4),(2,3),(2,1)]))\n"
   ]
  },
  {
   "cell_type": "code",
   "execution_count": null,
   "id": "1b491b2e",
   "metadata": {},
   "outputs": [],
   "source": []
  }
 ],
 "metadata": {
  "kernelspec": {
   "display_name": "Python 3 (ipykernel)",
   "language": "python",
   "name": "python3"
  },
  "language_info": {
   "codemirror_mode": {
    "name": "ipython",
    "version": 3
   },
   "file_extension": ".py",
   "mimetype": "text/x-python",
   "name": "python",
   "nbconvert_exporter": "python",
   "pygments_lexer": "ipython3",
   "version": "3.10.2"
  }
 },
 "nbformat": 4,
 "nbformat_minor": 5
}
